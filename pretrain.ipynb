{
 "cells": [
  {
   "cell_type": "code",
   "execution_count": 5,
   "metadata": {},
   "outputs": [],
   "source": [
    "import torch\n",
    "import torch.nn as nn\n",
    "import torch.optim as optim\n",
    "from torch.utils.data import DataLoader\n",
    "from datasets import UnsupervisedLunarSeismicDataset, collate_fn, train_test_split_dataset\n",
    "from models import CNNAutoencoder"
   ]
  },
  {
   "cell_type": "code",
   "execution_count": 6,
   "metadata": {},
   "outputs": [],
   "source": [
    "# Define model and training hyperparameters\n",
    "num_epochs = 30\n",
    "batch_size=16\n",
    "learning_rate=1e-3\n",
    "data_dir = 'data/lunar/unsupervised'"
   ]
  },
  {
   "cell_type": "code",
   "execution_count": 7,
   "metadata": {},
   "outputs": [
    {
     "name": "stderr",
     "output_type": "stream",
     "text": [
      "/root/projects/space_apps_2024_seismic_detection/datasets.py:19: UserWarning: nperseg = 256 is greater than input length  = 33, using nperseg = 33\n",
      "  freq, time, spectrogram = signal.spectrogram(trace_filtered.data, trace_filtered.stats.sampling_rate)\n",
      "/root/projects/space_apps_2024_seismic_detection/datasets.py:19: UserWarning: nperseg = 256 is greater than input length  = 22, using nperseg = 22\n",
      "  freq, time, spectrogram = signal.spectrogram(trace_filtered.data, trace_filtered.stats.sampling_rate)\n",
      "/root/projects/space_apps_2024_seismic_detection/datasets.py:19: UserWarning: nperseg = 256 is greater than input length  = 31, using nperseg = 31\n",
      "  freq, time, spectrogram = signal.spectrogram(trace_filtered.data, trace_filtered.stats.sampling_rate)\n",
      "/root/projects/space_apps_2024_seismic_detection/datasets.py:19: UserWarning: nperseg = 256 is greater than input length  = 11, using nperseg = 11\n",
      "  freq, time, spectrogram = signal.spectrogram(trace_filtered.data, trace_filtered.stats.sampling_rate)\n",
      "/root/projects/space_apps_2024_seismic_detection/datasets.py:19: UserWarning: nperseg = 256 is greater than input length  = 2, using nperseg = 2\n",
      "  freq, time, spectrogram = signal.spectrogram(trace_filtered.data, trace_filtered.stats.sampling_rate)\n",
      "/root/projects/space_apps_2024_seismic_detection/datasets.py:19: UserWarning: nperseg = 256 is greater than input length  = 30, using nperseg = 30\n",
      "  freq, time, spectrogram = signal.spectrogram(trace_filtered.data, trace_filtered.stats.sampling_rate)\n",
      "/root/projects/space_apps_2024_seismic_detection/datasets.py:19: UserWarning: nperseg = 256 is greater than input length  = 23, using nperseg = 23\n",
      "  freq, time, spectrogram = signal.spectrogram(trace_filtered.data, trace_filtered.stats.sampling_rate)\n",
      "/root/projects/space_apps_2024_seismic_detection/datasets.py:19: UserWarning: nperseg = 256 is greater than input length  = 9, using nperseg = 9\n",
      "  freq, time, spectrogram = signal.spectrogram(trace_filtered.data, trace_filtered.stats.sampling_rate)\n",
      "/root/projects/space_apps_2024_seismic_detection/datasets.py:19: UserWarning: nperseg = 256 is greater than input length  = 1, using nperseg = 1\n",
      "  freq, time, spectrogram = signal.spectrogram(trace_filtered.data, trace_filtered.stats.sampling_rate)\n",
      "/root/projects/space_apps_2024_seismic_detection/datasets.py:19: UserWarning: nperseg = 256 is greater than input length  = 17, using nperseg = 17\n",
      "  freq, time, spectrogram = signal.spectrogram(trace_filtered.data, trace_filtered.stats.sampling_rate)\n",
      "/root/projects/space_apps_2024_seismic_detection/datasets.py:19: UserWarning: nperseg = 256 is greater than input length  = 3, using nperseg = 3\n",
      "  freq, time, spectrogram = signal.spectrogram(trace_filtered.data, trace_filtered.stats.sampling_rate)\n",
      "/root/projects/space_apps_2024_seismic_detection/datasets.py:19: UserWarning: nperseg = 256 is greater than input length  = 10, using nperseg = 10\n",
      "  freq, time, spectrogram = signal.spectrogram(trace_filtered.data, trace_filtered.stats.sampling_rate)\n",
      "/root/projects/space_apps_2024_seismic_detection/datasets.py:19: UserWarning: nperseg = 256 is greater than input length  = 19, using nperseg = 19\n",
      "  freq, time, spectrogram = signal.spectrogram(trace_filtered.data, trace_filtered.stats.sampling_rate)\n",
      "/root/projects/space_apps_2024_seismic_detection/datasets.py:19: UserWarning: nperseg = 256 is greater than input length  = 14, using nperseg = 14\n",
      "  freq, time, spectrogram = signal.spectrogram(trace_filtered.data, trace_filtered.stats.sampling_rate)\n",
      "/root/projects/space_apps_2024_seismic_detection/datasets.py:19: UserWarning: nperseg = 256 is greater than input length  = 29, using nperseg = 29\n",
      "  freq, time, spectrogram = signal.spectrogram(trace_filtered.data, trace_filtered.stats.sampling_rate)\n",
      "/root/projects/space_apps_2024_seismic_detection/datasets.py:19: UserWarning: nperseg = 256 is greater than input length  = 35, using nperseg = 35\n",
      "  freq, time, spectrogram = signal.spectrogram(trace_filtered.data, trace_filtered.stats.sampling_rate)\n"
     ]
    }
   ],
   "source": [
    "# Load the dataset\n",
    "unsupervised_dataset = UnsupervisedLunarSeismicDataset(data_dir=data_dir)\n",
    "train_dataset, test_dataset = train_test_split_dataset(unsupervised_dataset)\n",
    "\n",
    "train_loader = DataLoader(train_dataset, batch_size=batch_size, shuffle=True, collate_fn=collate_fn)\n",
    "test_loader = DataLoader(test_dataset, batch_size=batch_size, shuffle=False, collate_fn=collate_fn)"
   ]
  },
  {
   "cell_type": "code",
   "execution_count": 8,
   "metadata": {},
   "outputs": [],
   "source": [
    "# Init the model\n",
    "autoencoder = CNNAutoencoder()\n",
    "\n",
    "# Training set up\n",
    "criterion = nn.MSELoss()\n",
    "optimizer = optim.Adam(autoencoder.parameters(), lr=learning_rate)"
   ]
  },
  {
   "cell_type": "code",
   "execution_count": 9,
   "metadata": {},
   "outputs": [
    {
     "name": "stdout",
     "output_type": "stream",
     "text": [
      "Epoch [1/10], Training Loss: 0.1170\n",
      "Epoch [1/10], Test Loss: 0.5989\n",
      "Model saved to ./checkpoints/CNNAutoencoder/model_epoch_1.pth\n",
      "Epoch [2/10], Training Loss: 0.1376\n",
      "Epoch [2/10], Test Loss: 0.5949\n",
      "Model saved to ./checkpoints/CNNAutoencoder/model_epoch_2.pth\n",
      "Epoch [3/10], Training Loss: 0.1480\n",
      "Epoch [3/10], Test Loss: 0.5939\n",
      "Model saved to ./checkpoints/CNNAutoencoder/model_epoch_3.pth\n",
      "Epoch [4/10], Training Loss: 43.7599\n",
      "Epoch [4/10], Test Loss: 0.5936\n",
      "Model saved to ./checkpoints/CNNAutoencoder/model_epoch_4.pth\n",
      "Epoch [5/10], Training Loss: 5.1922\n",
      "Epoch [5/10], Test Loss: 0.5925\n",
      "Model saved to ./checkpoints/CNNAutoencoder/model_epoch_5.pth\n",
      "Epoch [6/10], Training Loss: 0.0489\n",
      "Epoch [6/10], Test Loss: 0.5875\n",
      "Model saved to ./checkpoints/CNNAutoencoder/model_epoch_6.pth\n",
      "Epoch [7/10], Training Loss: 0.1602\n",
      "Epoch [7/10], Test Loss: 0.5840\n",
      "Model saved to ./checkpoints/CNNAutoencoder/model_epoch_7.pth\n",
      "Epoch [8/10], Training Loss: 0.1241\n",
      "Epoch [8/10], Test Loss: 0.5836\n",
      "Model saved to ./checkpoints/CNNAutoencoder/model_epoch_8.pth\n",
      "Epoch [9/10], Training Loss: 0.0924\n",
      "Epoch [9/10], Test Loss: 0.5832\n",
      "Model saved to ./checkpoints/CNNAutoencoder/model_epoch_9.pth\n",
      "Epoch [10/10], Training Loss: 0.5523\n",
      "Epoch [10/10], Test Loss: 0.5829\n",
      "Model saved to ./checkpoints/CNNAutoencoder/model_epoch_10.pth\n"
     ]
    }
   ],
   "source": [
    "# Training Loop\n",
    "for epoch in range(num_epochs):\n",
    "    autoencoder.train()\n",
    "    for inputs in train_loader:\n",
    "        if inputs is None:\n",
    "            continue\n",
    "        inputs = inputs.unsqueeze(1)  # Add channel dimension\n",
    "        outputs = autoencoder(inputs)\n",
    "        loss = criterion(outputs, inputs)\n",
    "\n",
    "        optimizer.zero_grad()\n",
    "        loss.backward()\n",
    "        optimizer.step()\n",
    "\n",
    "    print(f'Epoch [{epoch+1}/{num_epochs}], Training Loss: {loss.item():.4f}')\n",
    "\n",
    "    # Evaluate on the test set\n",
    "    autoencoder.eval()\n",
    "    with torch.no_grad():\n",
    "        test_loss = 0.0\n",
    "        for inputs in test_loader:\n",
    "            if inputs is None:\n",
    "                continue\n",
    "            inputs = inputs.unsqueeze(1)  # Add channel dimension\n",
    "            outputs = autoencoder(inputs)\n",
    "            loss = criterion(outputs, inputs)\n",
    "            test_loss += loss.item()\n",
    "\n",
    "        test_loss /= len(test_loader)\n",
    "        print(f'Epoch [{epoch+1}/{num_epochs}], Test Loss: {test_loss:.4f}')\n",
    "\n",
    "    # Save model checkpoint\n",
    "    checkpoint_path = f'./checkpoints/CNNAutoencoder/model_epoch_{epoch+1}.pth'\n",
    "    torch.save(autoencoder.state_dict(), checkpoint_path)\n",
    "    print(f'Model saved to {checkpoint_path}')"
   ]
  }
 ],
 "metadata": {
  "kernelspec": {
   "display_name": "seismic-detection",
   "language": "python",
   "name": "python3"
  },
  "language_info": {
   "codemirror_mode": {
    "name": "ipython",
    "version": 3
   },
   "file_extension": ".py",
   "mimetype": "text/x-python",
   "name": "python",
   "nbconvert_exporter": "python",
   "pygments_lexer": "ipython3",
   "version": "3.11.10"
  }
 },
 "nbformat": 4,
 "nbformat_minor": 2
}
