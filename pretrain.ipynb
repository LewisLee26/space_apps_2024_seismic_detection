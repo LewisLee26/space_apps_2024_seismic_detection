{
 "cells": [
  {
   "cell_type": "code",
   "execution_count": 16,
   "metadata": {},
   "outputs": [],
   "source": [
    "import torch\n",
    "import torch.nn as nn\n",
    "import torch.optim as optim\n",
    "from torch.utils.data import DataLoader\n",
    "from datasets import UnsupervisedLunarSeismicDataset, collate_fn, train_test_split_dataset\n",
    "from models import CNNAutoencoder"
   ]
  },
  {
   "cell_type": "code",
   "execution_count": 17,
   "metadata": {},
   "outputs": [],
   "source": [
    "# Define model and training hyperparameters\n",
    "num_epochs = 30\n",
    "batch_size=16\n",
    "learning_rate=1e-3\n",
    "data_dir = 'data/lunar/unsupervised'"
   ]
  },
  {
   "cell_type": "code",
   "execution_count": null,
   "metadata": {},
   "outputs": [],
   "source": [
    "# Load the dataset\n",
    "unsupervised_dataset = UnsupervisedLunarSeismicDataset(data_dir=data_dir)\n",
    "train_dataset, test_dataset = train_test_split_dataset(unsupervised_dataset)\n",
    "\n",
    "train_loader = DataLoader(train_dataset, batch_size=batch_size, shuffle=True, collate_fn=collate_fn)\n",
    "test_loader = DataLoader(test_dataset, batch_size=batch_size, shuffle=False, collate_fn=collate_fn)"
   ]
  },
  {
   "cell_type": "code",
   "execution_count": 19,
   "metadata": {},
   "outputs": [],
   "source": [
    "# Init the model\n",
    "autoencoder = CNNAutoencoder()\n",
    "\n",
    "# Training set up\n",
    "criterion = nn.MSELoss()\n",
    "optimizer = optim.Adam(autoencoder.parameters(), lr=learning_rate)"
   ]
  },
  {
   "cell_type": "code",
   "execution_count": null,
   "metadata": {},
   "outputs": [],
   "source": [
    "# Training Loop\n",
    "for epoch in range(num_epochs):\n",
    "    autoencoder.train()\n",
    "    for inputs in train_loader:\n",
    "        if inputs is None:\n",
    "            continue\n",
    "        inputs = inputs.unsqueeze(1)  # Add channel dimension\n",
    "        outputs = autoencoder(inputs)\n",
    "        print(autoencoder.encoded.shape)\n",
    "        input()\n",
    "        loss = criterion(outputs, inputs)\n",
    "\n",
    "        optimizer.zero_grad()\n",
    "        loss.backward()\n",
    "        optimizer.step()\n",
    "\n",
    "    print(f'Epoch [{epoch+1}/{num_epochs}], Training Loss: {loss.item():.4f}')\n",
    "\n",
    "    # Evaluate on the test set\n",
    "    autoencoder.eval()\n",
    "    with torch.no_grad():\n",
    "        test_loss = 0.0\n",
    "        for inputs in test_loader:\n",
    "            if inputs is None:\n",
    "                continue\n",
    "            inputs = inputs.unsqueeze(1)  # Add channel dimension\n",
    "            outputs = autoencoder(inputs)\n",
    "            loss = criterion(outputs, inputs)\n",
    "            test_loss += loss.item()\n",
    "\n",
    "        test_loss /= len(test_loader)\n",
    "        print(f'Epoch [{epoch+1}/{num_epochs}], Test Loss: {test_loss:.4f}')\n",
    "\n",
    "    # Save model checkpoint\n",
    "    checkpoint_path = f'./checkpoints/CNNAutoencoder/model_epoch_{epoch+1}.pth'\n",
    "    torch.save(autoencoder.state_dict(), checkpoint_path)\n",
    "    print(f'Model saved to {checkpoint_path}')"
   ]
  }
 ],
 "metadata": {
  "kernelspec": {
   "display_name": "seismic-detection",
   "language": "python",
   "name": "python3"
  },
  "language_info": {
   "codemirror_mode": {
    "name": "ipython",
    "version": 3
   },
   "file_extension": ".py",
   "mimetype": "text/x-python",
   "name": "python",
   "nbconvert_exporter": "python",
   "pygments_lexer": "ipython3",
   "version": "3.11.10"
  }
 },
 "nbformat": 4,
 "nbformat_minor": 2
}
