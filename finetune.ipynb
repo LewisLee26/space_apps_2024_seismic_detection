{
 "cells": [
  {
   "cell_type": "code",
   "execution_count": 13,
   "metadata": {},
   "outputs": [],
   "source": [
    "import torch\n",
    "import torch.nn as nn\n",
    "import torch.optim as optim\n",
    "from torch.utils.data import DataLoader\n",
    "from datasets import LunarSeismicDataset, collate_fn, train_test_split_dataset\n",
    "from models import SeismicEventPredictor, CNNAutoencoder"
   ]
  },
  {
   "cell_type": "code",
   "execution_count": 14,
   "metadata": {},
   "outputs": [],
   "source": [
    "# Define model and training hyperparameters\n",
    "num_epochs=50\n",
    "batch_size=4\n",
    "learning_rate=1e-3"
   ]
  },
  {
   "cell_type": "code",
   "execution_count": 15,
   "metadata": {},
   "outputs": [
    {
     "data": {
      "text/plain": [
       "<All keys matched successfully>"
      ]
     },
     "execution_count": 15,
     "metadata": {},
     "output_type": "execute_result"
    }
   ],
   "source": [
    "# Load the prertained Autoencoder\n",
    "autoencoder = CNNAutoencoder()\n",
    "autoencoder.load_state_dict(torch.load('checkpoints/CNNAutoencoder/model_epoch_10.pth', weights_only=True))"
   ]
  },
  {
   "cell_type": "code",
   "execution_count": 16,
   "metadata": {},
   "outputs": [],
   "source": [
    "# Load the dataset\n",
    "supervised_dataset = LunarSeismicDataset(data_dir='data/lunar/training/data/S12_GradeA', catalog_file='data/lunar/training/catalogs/apollo12_catalog_GradeA_final.csv')\n",
    "train_dataset, test_dataset = train_test_split_dataset(supervised_dataset)\n",
    "\n",
    "train_loader = DataLoader(train_dataset, batch_size=batch_size, shuffle=True, collate_fn=collate_fn)\n",
    "test_loader = DataLoader(test_dataset, batch_size=batch_size, shuffle=False, collate_fn=collate_fn)"
   ]
  },
  {
   "cell_type": "code",
   "execution_count": 17,
   "metadata": {},
   "outputs": [],
   "source": [
    "# Init the model\n",
    "predictor = SeismicEventPredictor(autoencoder)\n",
    "\n",
    "# Training set up\n",
    "criterion = nn.MSELoss()\n",
    "optimizer = optim.Adam(predictor.parameters(), lr=learning_rate)"
   ]
  },
  {
   "cell_type": "code",
   "execution_count": 18,
   "metadata": {},
   "outputs": [
    {
     "name": "stdout",
     "output_type": "stream",
     "text": [
      "Epoch [1/50], Training Loss: 1775027200.0000\n",
      "Epoch [1/50], Test Loss: 2840395424.0000\n",
      "Model saved to ./checkpoints/SeismicEventPredictor/model_epoch_1.pth\n",
      "Epoch [2/50], Training Loss: 2221543936.0000\n",
      "Epoch [2/50], Test Loss: 2574121472.0000\n",
      "Model saved to ./checkpoints/SeismicEventPredictor/model_epoch_2.pth\n",
      "Epoch [3/50], Training Loss: 1141696256.0000\n",
      "Epoch [3/50], Test Loss: 1954264624.0000\n",
      "Model saved to ./checkpoints/SeismicEventPredictor/model_epoch_3.pth\n",
      "Epoch [4/50], Training Loss: 1211451520.0000\n",
      "Epoch [4/50], Test Loss: 1117388432.0000\n",
      "Model saved to ./checkpoints/SeismicEventPredictor/model_epoch_4.pth\n",
      "Epoch [5/50], Training Loss: 768741056.0000\n",
      "Epoch [5/50], Test Loss: 743134888.0000\n",
      "Model saved to ./checkpoints/SeismicEventPredictor/model_epoch_5.pth\n",
      "Epoch [6/50], Training Loss: 445954176.0000\n",
      "Epoch [6/50], Test Loss: 752898856.0000\n",
      "Model saved to ./checkpoints/SeismicEventPredictor/model_epoch_6.pth\n",
      "Epoch [7/50], Training Loss: 858544768.0000\n",
      "Epoch [7/50], Test Loss: 756398568.0000\n",
      "Model saved to ./checkpoints/SeismicEventPredictor/model_epoch_7.pth\n",
      "Epoch [8/50], Training Loss: 627293120.0000\n",
      "Epoch [8/50], Test Loss: 820867920.0000\n",
      "Model saved to ./checkpoints/SeismicEventPredictor/model_epoch_8.pth\n",
      "Epoch [9/50], Training Loss: 451126112.0000\n",
      "Epoch [9/50], Test Loss: 754303576.0000\n",
      "Model saved to ./checkpoints/SeismicEventPredictor/model_epoch_9.pth\n",
      "Epoch [10/50], Training Loss: 578472640.0000\n",
      "Epoch [10/50], Test Loss: 785118032.0000\n",
      "Model saved to ./checkpoints/SeismicEventPredictor/model_epoch_10.pth\n",
      "Epoch [11/50], Training Loss: 889194240.0000\n",
      "Epoch [11/50], Test Loss: 754086488.0000\n",
      "Model saved to ./checkpoints/SeismicEventPredictor/model_epoch_11.pth\n",
      "Epoch [12/50], Training Loss: 184171888.0000\n",
      "Epoch [12/50], Test Loss: 760104824.0000\n",
      "Model saved to ./checkpoints/SeismicEventPredictor/model_epoch_12.pth\n",
      "Epoch [13/50], Training Loss: 1229519872.0000\n",
      "Epoch [13/50], Test Loss: 786310432.0000\n",
      "Model saved to ./checkpoints/SeismicEventPredictor/model_epoch_13.pth\n",
      "Epoch [14/50], Training Loss: 473354560.0000\n",
      "Epoch [14/50], Test Loss: 765561200.0000\n",
      "Model saved to ./checkpoints/SeismicEventPredictor/model_epoch_14.pth\n",
      "Epoch [15/50], Training Loss: 100299504.0000\n",
      "Epoch [15/50], Test Loss: 766390136.0000\n",
      "Model saved to ./checkpoints/SeismicEventPredictor/model_epoch_15.pth\n",
      "Epoch [16/50], Training Loss: 749747904.0000\n",
      "Epoch [16/50], Test Loss: 758026304.0000\n",
      "Model saved to ./checkpoints/SeismicEventPredictor/model_epoch_16.pth\n",
      "Epoch [17/50], Training Loss: 762449344.0000\n",
      "Epoch [17/50], Test Loss: 779251952.0000\n",
      "Model saved to ./checkpoints/SeismicEventPredictor/model_epoch_17.pth\n",
      "Epoch [18/50], Training Loss: 485559680.0000\n",
      "Epoch [18/50], Test Loss: 776844632.0000\n",
      "Model saved to ./checkpoints/SeismicEventPredictor/model_epoch_18.pth\n",
      "Epoch [19/50], Training Loss: 524422432.0000\n",
      "Epoch [19/50], Test Loss: 779689792.0000\n",
      "Model saved to ./checkpoints/SeismicEventPredictor/model_epoch_19.pth\n",
      "Epoch [20/50], Training Loss: 908769216.0000\n",
      "Epoch [20/50], Test Loss: 773088536.0000\n",
      "Model saved to ./checkpoints/SeismicEventPredictor/model_epoch_20.pth\n",
      "Epoch [21/50], Training Loss: 295910400.0000\n",
      "Epoch [21/50], Test Loss: 761065984.0000\n",
      "Model saved to ./checkpoints/SeismicEventPredictor/model_epoch_21.pth\n",
      "Epoch [22/50], Training Loss: 265818016.0000\n",
      "Epoch [22/50], Test Loss: 790484264.0000\n",
      "Model saved to ./checkpoints/SeismicEventPredictor/model_epoch_22.pth\n",
      "Epoch [23/50], Training Loss: 895860608.0000\n",
      "Epoch [23/50], Test Loss: 760750152.0000\n",
      "Model saved to ./checkpoints/SeismicEventPredictor/model_epoch_23.pth\n",
      "Epoch [24/50], Training Loss: 283579264.0000\n",
      "Epoch [24/50], Test Loss: 744624552.0000\n",
      "Model saved to ./checkpoints/SeismicEventPredictor/model_epoch_24.pth\n",
      "Epoch [25/50], Training Loss: 591894144.0000\n",
      "Epoch [25/50], Test Loss: 766473664.0000\n",
      "Model saved to ./checkpoints/SeismicEventPredictor/model_epoch_25.pth\n",
      "Epoch [26/50], Training Loss: 472649344.0000\n",
      "Epoch [26/50], Test Loss: 786891104.0000\n",
      "Model saved to ./checkpoints/SeismicEventPredictor/model_epoch_26.pth\n",
      "Epoch [27/50], Training Loss: 491926208.0000\n",
      "Epoch [27/50], Test Loss: 751702648.0000\n",
      "Model saved to ./checkpoints/SeismicEventPredictor/model_epoch_27.pth\n",
      "Epoch [28/50], Training Loss: 664978048.0000\n",
      "Epoch [28/50], Test Loss: 749461272.0000\n",
      "Model saved to ./checkpoints/SeismicEventPredictor/model_epoch_28.pth\n",
      "Epoch [29/50], Training Loss: 664136064.0000\n",
      "Epoch [29/50], Test Loss: 785767432.0000\n",
      "Model saved to ./checkpoints/SeismicEventPredictor/model_epoch_29.pth\n",
      "Epoch [30/50], Training Loss: 411223968.0000\n",
      "Epoch [30/50], Test Loss: 783744408.0000\n",
      "Model saved to ./checkpoints/SeismicEventPredictor/model_epoch_30.pth\n",
      "Epoch [31/50], Training Loss: 652914304.0000\n",
      "Epoch [31/50], Test Loss: 748409216.0000\n",
      "Model saved to ./checkpoints/SeismicEventPredictor/model_epoch_31.pth\n"
     ]
    },
    {
     "ename": "KeyboardInterrupt",
     "evalue": "",
     "output_type": "error",
     "traceback": [
      "\u001b[0;31m---------------------------------------------------------------------------\u001b[0m",
      "\u001b[0;31mKeyboardInterrupt\u001b[0m                         Traceback (most recent call last)",
      "Cell \u001b[0;32mIn[18], line 4\u001b[0m\n\u001b[1;32m      2\u001b[0m \u001b[38;5;28;01mfor\u001b[39;00m epoch \u001b[38;5;129;01min\u001b[39;00m \u001b[38;5;28mrange\u001b[39m(num_epochs):\n\u001b[1;32m      3\u001b[0m     predictor\u001b[38;5;241m.\u001b[39mtrain()\n\u001b[0;32m----> 4\u001b[0m     \u001b[38;5;28;01mfor\u001b[39;00m inputs, targets \u001b[38;5;129;01min\u001b[39;00m train_loader:\n\u001b[1;32m      5\u001b[0m         \u001b[38;5;28;01mif\u001b[39;00m inputs \u001b[38;5;129;01mis\u001b[39;00m \u001b[38;5;28;01mNone\u001b[39;00m:\n\u001b[1;32m      6\u001b[0m             \u001b[38;5;28;01mcontinue\u001b[39;00m\n",
      "File \u001b[0;32m~/miniconda3/envs/seismic-detection/lib/python3.11/site-packages/torch/utils/data/dataloader.py:630\u001b[0m, in \u001b[0;36m_BaseDataLoaderIter.__next__\u001b[0;34m(self)\u001b[0m\n\u001b[1;32m    627\u001b[0m \u001b[38;5;28;01mif\u001b[39;00m \u001b[38;5;28mself\u001b[39m\u001b[38;5;241m.\u001b[39m_sampler_iter \u001b[38;5;129;01mis\u001b[39;00m \u001b[38;5;28;01mNone\u001b[39;00m:\n\u001b[1;32m    628\u001b[0m     \u001b[38;5;66;03m# TODO(https://github.com/pytorch/pytorch/issues/76750)\u001b[39;00m\n\u001b[1;32m    629\u001b[0m     \u001b[38;5;28mself\u001b[39m\u001b[38;5;241m.\u001b[39m_reset()  \u001b[38;5;66;03m# type: ignore[call-arg]\u001b[39;00m\n\u001b[0;32m--> 630\u001b[0m data \u001b[38;5;241m=\u001b[39m \u001b[38;5;28mself\u001b[39m\u001b[38;5;241m.\u001b[39m_next_data()\n\u001b[1;32m    631\u001b[0m \u001b[38;5;28mself\u001b[39m\u001b[38;5;241m.\u001b[39m_num_yielded \u001b[38;5;241m+\u001b[39m\u001b[38;5;241m=\u001b[39m \u001b[38;5;241m1\u001b[39m\n\u001b[1;32m    632\u001b[0m \u001b[38;5;28;01mif\u001b[39;00m \u001b[38;5;28mself\u001b[39m\u001b[38;5;241m.\u001b[39m_dataset_kind \u001b[38;5;241m==\u001b[39m _DatasetKind\u001b[38;5;241m.\u001b[39mIterable \u001b[38;5;129;01mand\u001b[39;00m \\\n\u001b[1;32m    633\u001b[0m         \u001b[38;5;28mself\u001b[39m\u001b[38;5;241m.\u001b[39m_IterableDataset_len_called \u001b[38;5;129;01mis\u001b[39;00m \u001b[38;5;129;01mnot\u001b[39;00m \u001b[38;5;28;01mNone\u001b[39;00m \u001b[38;5;129;01mand\u001b[39;00m \\\n\u001b[1;32m    634\u001b[0m         \u001b[38;5;28mself\u001b[39m\u001b[38;5;241m.\u001b[39m_num_yielded \u001b[38;5;241m>\u001b[39m \u001b[38;5;28mself\u001b[39m\u001b[38;5;241m.\u001b[39m_IterableDataset_len_called:\n",
      "File \u001b[0;32m~/miniconda3/envs/seismic-detection/lib/python3.11/site-packages/torch/utils/data/dataloader.py:673\u001b[0m, in \u001b[0;36m_SingleProcessDataLoaderIter._next_data\u001b[0;34m(self)\u001b[0m\n\u001b[1;32m    671\u001b[0m \u001b[38;5;28;01mdef\u001b[39;00m \u001b[38;5;21m_next_data\u001b[39m(\u001b[38;5;28mself\u001b[39m):\n\u001b[1;32m    672\u001b[0m     index \u001b[38;5;241m=\u001b[39m \u001b[38;5;28mself\u001b[39m\u001b[38;5;241m.\u001b[39m_next_index()  \u001b[38;5;66;03m# may raise StopIteration\u001b[39;00m\n\u001b[0;32m--> 673\u001b[0m     data \u001b[38;5;241m=\u001b[39m \u001b[38;5;28mself\u001b[39m\u001b[38;5;241m.\u001b[39m_dataset_fetcher\u001b[38;5;241m.\u001b[39mfetch(index)  \u001b[38;5;66;03m# may raise StopIteration\u001b[39;00m\n\u001b[1;32m    674\u001b[0m     \u001b[38;5;28;01mif\u001b[39;00m \u001b[38;5;28mself\u001b[39m\u001b[38;5;241m.\u001b[39m_pin_memory:\n\u001b[1;32m    675\u001b[0m         data \u001b[38;5;241m=\u001b[39m _utils\u001b[38;5;241m.\u001b[39mpin_memory\u001b[38;5;241m.\u001b[39mpin_memory(data, \u001b[38;5;28mself\u001b[39m\u001b[38;5;241m.\u001b[39m_pin_memory_device)\n",
      "File \u001b[0;32m~/miniconda3/envs/seismic-detection/lib/python3.11/site-packages/torch/utils/data/_utils/fetch.py:50\u001b[0m, in \u001b[0;36m_MapDatasetFetcher.fetch\u001b[0;34m(self, possibly_batched_index)\u001b[0m\n\u001b[1;32m     48\u001b[0m \u001b[38;5;28;01mif\u001b[39;00m \u001b[38;5;28mself\u001b[39m\u001b[38;5;241m.\u001b[39mauto_collation:\n\u001b[1;32m     49\u001b[0m     \u001b[38;5;28;01mif\u001b[39;00m \u001b[38;5;28mhasattr\u001b[39m(\u001b[38;5;28mself\u001b[39m\u001b[38;5;241m.\u001b[39mdataset, \u001b[38;5;124m\"\u001b[39m\u001b[38;5;124m__getitems__\u001b[39m\u001b[38;5;124m\"\u001b[39m) \u001b[38;5;129;01mand\u001b[39;00m \u001b[38;5;28mself\u001b[39m\u001b[38;5;241m.\u001b[39mdataset\u001b[38;5;241m.\u001b[39m__getitems__:\n\u001b[0;32m---> 50\u001b[0m         data \u001b[38;5;241m=\u001b[39m \u001b[38;5;28mself\u001b[39m\u001b[38;5;241m.\u001b[39mdataset\u001b[38;5;241m.\u001b[39m__getitems__(possibly_batched_index)\n\u001b[1;32m     51\u001b[0m     \u001b[38;5;28;01melse\u001b[39;00m:\n\u001b[1;32m     52\u001b[0m         data \u001b[38;5;241m=\u001b[39m [\u001b[38;5;28mself\u001b[39m\u001b[38;5;241m.\u001b[39mdataset[idx] \u001b[38;5;28;01mfor\u001b[39;00m idx \u001b[38;5;129;01min\u001b[39;00m possibly_batched_index]\n",
      "File \u001b[0;32m~/miniconda3/envs/seismic-detection/lib/python3.11/site-packages/torch/utils/data/dataset.py:420\u001b[0m, in \u001b[0;36mSubset.__getitems__\u001b[0;34m(self, indices)\u001b[0m\n\u001b[1;32m    418\u001b[0m     \u001b[38;5;28;01mreturn\u001b[39;00m \u001b[38;5;28mself\u001b[39m\u001b[38;5;241m.\u001b[39mdataset\u001b[38;5;241m.\u001b[39m__getitems__([\u001b[38;5;28mself\u001b[39m\u001b[38;5;241m.\u001b[39mindices[idx] \u001b[38;5;28;01mfor\u001b[39;00m idx \u001b[38;5;129;01min\u001b[39;00m indices])  \u001b[38;5;66;03m# type: ignore[attr-defined]\u001b[39;00m\n\u001b[1;32m    419\u001b[0m \u001b[38;5;28;01melse\u001b[39;00m:\n\u001b[0;32m--> 420\u001b[0m     \u001b[38;5;28;01mreturn\u001b[39;00m [\u001b[38;5;28mself\u001b[39m\u001b[38;5;241m.\u001b[39mdataset[\u001b[38;5;28mself\u001b[39m\u001b[38;5;241m.\u001b[39mindices[idx]] \u001b[38;5;28;01mfor\u001b[39;00m idx \u001b[38;5;129;01min\u001b[39;00m indices]\n",
      "File \u001b[0;32m~/miniconda3/envs/seismic-detection/lib/python3.11/site-packages/torch/utils/data/dataset.py:420\u001b[0m, in \u001b[0;36m<listcomp>\u001b[0;34m(.0)\u001b[0m\n\u001b[1;32m    418\u001b[0m     \u001b[38;5;28;01mreturn\u001b[39;00m \u001b[38;5;28mself\u001b[39m\u001b[38;5;241m.\u001b[39mdataset\u001b[38;5;241m.\u001b[39m__getitems__([\u001b[38;5;28mself\u001b[39m\u001b[38;5;241m.\u001b[39mindices[idx] \u001b[38;5;28;01mfor\u001b[39;00m idx \u001b[38;5;129;01min\u001b[39;00m indices])  \u001b[38;5;66;03m# type: ignore[attr-defined]\u001b[39;00m\n\u001b[1;32m    419\u001b[0m \u001b[38;5;28;01melse\u001b[39;00m:\n\u001b[0;32m--> 420\u001b[0m     \u001b[38;5;28;01mreturn\u001b[39;00m [\u001b[38;5;28mself\u001b[39m\u001b[38;5;241m.\u001b[39mdataset[\u001b[38;5;28mself\u001b[39m\u001b[38;5;241m.\u001b[39mindices[idx]] \u001b[38;5;28;01mfor\u001b[39;00m idx \u001b[38;5;129;01min\u001b[39;00m indices]\n",
      "File \u001b[0;32m~/projects/space_apps_2024_seismic_detection/datasets.py:163\u001b[0m, in \u001b[0;36mLunarSeismicDataset.__getitem__\u001b[0;34m(self, idx)\u001b[0m\n\u001b[1;32m    160\u001b[0m file_name \u001b[38;5;241m=\u001b[39m \u001b[38;5;28mself\u001b[39m\u001b[38;5;241m.\u001b[39mfile_names[idx]\n\u001b[1;32m    162\u001b[0m mseed_file \u001b[38;5;241m=\u001b[39m os\u001b[38;5;241m.\u001b[39mpath\u001b[38;5;241m.\u001b[39mjoin(\u001b[38;5;28mself\u001b[39m\u001b[38;5;241m.\u001b[39mdata_dir, file_name)\n\u001b[0;32m--> 163\u001b[0m trace \u001b[38;5;241m=\u001b[39m read_miniseed(mseed_file)\n\u001b[1;32m    164\u001b[0m _, time, spectrogram \u001b[38;5;241m=\u001b[39m compute_spectrogram(trace)\n\u001b[1;32m    166\u001b[0m \u001b[38;5;66;03m# Standardize the spectrogram\u001b[39;00m\n",
      "File \u001b[0;32m~/projects/space_apps_2024_seismic_detection/datasets.py:12\u001b[0m, in \u001b[0;36mread_miniseed\u001b[0;34m(file_path)\u001b[0m\n\u001b[1;32m     11\u001b[0m \u001b[38;5;28;01mdef\u001b[39;00m \u001b[38;5;21mread_miniseed\u001b[39m(file_path):\n\u001b[0;32m---> 12\u001b[0m     stream \u001b[38;5;241m=\u001b[39m read(file_path)\n\u001b[1;32m     13\u001b[0m     trace \u001b[38;5;241m=\u001b[39m stream[\u001b[38;5;241m0\u001b[39m]\n\u001b[1;32m     14\u001b[0m     \u001b[38;5;28;01mreturn\u001b[39;00m trace\n",
      "File \u001b[0;32m~/miniconda3/envs/seismic-detection/lib/python3.11/site-packages/decorator.py:232\u001b[0m, in \u001b[0;36mdecorate.<locals>.fun\u001b[0;34m(*args, **kw)\u001b[0m\n\u001b[1;32m    230\u001b[0m \u001b[38;5;28;01mif\u001b[39;00m \u001b[38;5;129;01mnot\u001b[39;00m kwsyntax:\n\u001b[1;32m    231\u001b[0m     args, kw \u001b[38;5;241m=\u001b[39m fix(args, kw, sig)\n\u001b[0;32m--> 232\u001b[0m \u001b[38;5;28;01mreturn\u001b[39;00m caller(func, \u001b[38;5;241m*\u001b[39m(extras \u001b[38;5;241m+\u001b[39m args), \u001b[38;5;241m*\u001b[39m\u001b[38;5;241m*\u001b[39mkw)\n",
      "File \u001b[0;32m~/miniconda3/envs/seismic-detection/lib/python3.11/site-packages/obspy/core/util/decorator.py:291\u001b[0m, in \u001b[0;36mmap_example_filename.<locals>._map_example_filename\u001b[0;34m(func, *args, **kwargs)\u001b[0m\n\u001b[1;32m    289\u001b[0m                 \u001b[38;5;28;01mexcept\u001b[39;00m \u001b[38;5;167;01mIOError\u001b[39;00m:\n\u001b[1;32m    290\u001b[0m                     \u001b[38;5;28;01mpass\u001b[39;00m\n\u001b[0;32m--> 291\u001b[0m \u001b[38;5;28;01mreturn\u001b[39;00m func(\u001b[38;5;241m*\u001b[39margs, \u001b[38;5;241m*\u001b[39m\u001b[38;5;241m*\u001b[39mkwargs)\n",
      "File \u001b[0;32m~/miniconda3/envs/seismic-detection/lib/python3.11/site-packages/obspy/core/stream.py:208\u001b[0m, in \u001b[0;36mread\u001b[0;34m(pathname_or_url, format, headonly, starttime, endtime, nearest_sample, dtype, apply_calib, check_compression, **kwargs)\u001b[0m\n\u001b[1;32m    206\u001b[0m     st \u001b[38;5;241m=\u001b[39m _create_example_stream(headonly\u001b[38;5;241m=\u001b[39mheadonly)\n\u001b[1;32m    207\u001b[0m \u001b[38;5;28;01melse\u001b[39;00m:\n\u001b[0;32m--> 208\u001b[0m     st \u001b[38;5;241m=\u001b[39m _generic_reader(pathname_or_url, _read, \u001b[38;5;241m*\u001b[39m\u001b[38;5;241m*\u001b[39mkwargs)\n\u001b[1;32m    210\u001b[0m \u001b[38;5;28;01mif\u001b[39;00m \u001b[38;5;28mlen\u001b[39m(st) \u001b[38;5;241m==\u001b[39m \u001b[38;5;241m0\u001b[39m:\n\u001b[1;32m    211\u001b[0m     \u001b[38;5;66;03m# try to give more specific information why the stream is empty\u001b[39;00m\n\u001b[1;32m    212\u001b[0m     \u001b[38;5;28;01mif\u001b[39;00m has_magic(pathname_or_url) \u001b[38;5;129;01mand\u001b[39;00m \u001b[38;5;129;01mnot\u001b[39;00m glob(pathname_or_url):\n",
      "File \u001b[0;32m~/miniconda3/envs/seismic-detection/lib/python3.11/site-packages/obspy/core/util/base.py:657\u001b[0m, in \u001b[0;36m_generic_reader\u001b[0;34m(pathname_or_url, callback_func, **kwargs)\u001b[0m\n\u001b[1;32m    654\u001b[0m     \u001b[38;5;28;01melif\u001b[39;00m \u001b[38;5;129;01mnot\u001b[39;00m glob\u001b[38;5;241m.\u001b[39mhas_magic(pathname) \u001b[38;5;129;01mand\u001b[39;00m \u001b[38;5;129;01mnot\u001b[39;00m Path(pathname)\u001b[38;5;241m.\u001b[39mis_file():\n\u001b[1;32m    655\u001b[0m         \u001b[38;5;28;01mraise\u001b[39;00m \u001b[38;5;167;01mIOError\u001b[39;00m(\u001b[38;5;241m2\u001b[39m, \u001b[38;5;124m\"\u001b[39m\u001b[38;5;124mNo such file or directory\u001b[39m\u001b[38;5;124m\"\u001b[39m, pathname)\n\u001b[0;32m--> 657\u001b[0m generic \u001b[38;5;241m=\u001b[39m callback_func(pathnames[\u001b[38;5;241m0\u001b[39m], \u001b[38;5;241m*\u001b[39m\u001b[38;5;241m*\u001b[39mkwargs)\n\u001b[1;32m    658\u001b[0m \u001b[38;5;28;01mif\u001b[39;00m \u001b[38;5;28mlen\u001b[39m(pathnames) \u001b[38;5;241m>\u001b[39m \u001b[38;5;241m1\u001b[39m:\n\u001b[1;32m    659\u001b[0m     \u001b[38;5;28;01mfor\u001b[39;00m filename \u001b[38;5;129;01min\u001b[39;00m pathnames[\u001b[38;5;241m1\u001b[39m:]:\n",
      "File \u001b[0;32m~/miniconda3/envs/seismic-detection/lib/python3.11/site-packages/decorator.py:232\u001b[0m, in \u001b[0;36mdecorate.<locals>.fun\u001b[0;34m(*args, **kw)\u001b[0m\n\u001b[1;32m    230\u001b[0m \u001b[38;5;28;01mif\u001b[39;00m \u001b[38;5;129;01mnot\u001b[39;00m kwsyntax:\n\u001b[1;32m    231\u001b[0m     args, kw \u001b[38;5;241m=\u001b[39m fix(args, kw, sig)\n\u001b[0;32m--> 232\u001b[0m \u001b[38;5;28;01mreturn\u001b[39;00m caller(func, \u001b[38;5;241m*\u001b[39m(extras \u001b[38;5;241m+\u001b[39m args), \u001b[38;5;241m*\u001b[39m\u001b[38;5;241m*\u001b[39mkw)\n",
      "File \u001b[0;32m~/miniconda3/envs/seismic-detection/lib/python3.11/site-packages/obspy/core/util/decorator.py:202\u001b[0m, in \u001b[0;36muncompress_file\u001b[0;34m(func, filename, *args, **kwargs)\u001b[0m\n\u001b[1;32m    199\u001b[0m                 result \u001b[38;5;241m+\u001b[39m\u001b[38;5;241m=\u001b[39m stream\n\u001b[1;32m    200\u001b[0m \u001b[38;5;28;01melse\u001b[39;00m:\n\u001b[1;32m    201\u001b[0m     \u001b[38;5;66;03m# no compressions\u001b[39;00m\n\u001b[0;32m--> 202\u001b[0m     result \u001b[38;5;241m=\u001b[39m func(filename, \u001b[38;5;241m*\u001b[39margs, \u001b[38;5;241m*\u001b[39m\u001b[38;5;241m*\u001b[39mkwargs)\n\u001b[1;32m    203\u001b[0m \u001b[38;5;28;01mreturn\u001b[39;00m result\n",
      "File \u001b[0;32m~/miniconda3/envs/seismic-detection/lib/python3.11/site-packages/obspy/core/stream.py:249\u001b[0m, in \u001b[0;36m_read\u001b[0;34m(filename, format, headonly, **kwargs)\u001b[0m\n\u001b[1;32m    244\u001b[0m \u001b[38;5;129m@uncompress_file\u001b[39m\n\u001b[1;32m    245\u001b[0m \u001b[38;5;28;01mdef\u001b[39;00m \u001b[38;5;21m_read\u001b[39m(filename, \u001b[38;5;28mformat\u001b[39m\u001b[38;5;241m=\u001b[39m\u001b[38;5;28;01mNone\u001b[39;00m, headonly\u001b[38;5;241m=\u001b[39m\u001b[38;5;28;01mFalse\u001b[39;00m, \u001b[38;5;241m*\u001b[39m\u001b[38;5;241m*\u001b[39mkwargs):\n\u001b[1;32m    246\u001b[0m \u001b[38;5;250m    \u001b[39m\u001b[38;5;124;03m\"\"\"\u001b[39;00m\n\u001b[1;32m    247\u001b[0m \u001b[38;5;124;03m    Read a single file into a ObsPy Stream object.\u001b[39;00m\n\u001b[1;32m    248\u001b[0m \u001b[38;5;124;03m    \"\"\"\u001b[39;00m\n\u001b[0;32m--> 249\u001b[0m     stream, \u001b[38;5;28mformat\u001b[39m \u001b[38;5;241m=\u001b[39m _read_from_plugin(\u001b[38;5;124m'\u001b[39m\u001b[38;5;124mwaveform\u001b[39m\u001b[38;5;124m'\u001b[39m, filename, \u001b[38;5;28mformat\u001b[39m\u001b[38;5;241m=\u001b[39m\u001b[38;5;28mformat\u001b[39m,\n\u001b[1;32m    250\u001b[0m                                        headonly\u001b[38;5;241m=\u001b[39mheadonly, \u001b[38;5;241m*\u001b[39m\u001b[38;5;241m*\u001b[39mkwargs)\n\u001b[1;32m    251\u001b[0m     \u001b[38;5;66;03m# set _format identifier for each element\u001b[39;00m\n\u001b[1;32m    252\u001b[0m     \u001b[38;5;28;01mfor\u001b[39;00m trace \u001b[38;5;129;01min\u001b[39;00m stream:\n",
      "File \u001b[0;32m~/miniconda3/envs/seismic-detection/lib/python3.11/site-packages/obspy/core/util/base.py:422\u001b[0m, in \u001b[0;36m_read_from_plugin\u001b[0;34m(plugin_type, filename, format, **kwargs)\u001b[0m\n\u001b[1;32m    420\u001b[0m     \u001b[38;5;28;01mraise\u001b[39;00m \u001b[38;5;167;01mTypeError\u001b[39;00m(msg \u001b[38;5;241m%\u001b[39m (format_ep\u001b[38;5;241m.\u001b[39mname, \u001b[38;5;124m'\u001b[39m\u001b[38;5;124m, \u001b[39m\u001b[38;5;124m'\u001b[39m\u001b[38;5;241m.\u001b[39mjoin(eps)))\n\u001b[1;32m    421\u001b[0m \u001b[38;5;66;03m# read\u001b[39;00m\n\u001b[0;32m--> 422\u001b[0m list_obj \u001b[38;5;241m=\u001b[39m read_format(filename, \u001b[38;5;241m*\u001b[39m\u001b[38;5;241m*\u001b[39mkwargs)\n\u001b[1;32m    423\u001b[0m \u001b[38;5;28;01mreturn\u001b[39;00m list_obj, format_ep\u001b[38;5;241m.\u001b[39mname\n",
      "File \u001b[0;32m~/miniconda3/envs/seismic-detection/lib/python3.11/site-packages/obspy/io/mseed/core.py:306\u001b[0m, in \u001b[0;36m_read_mseed\u001b[0;34m(mseed_object, starttime, endtime, headonly, sourcename, reclen, details, header_byteorder, verbose, **kwargs)\u001b[0m\n\u001b[1;32m    303\u001b[0m \u001b[38;5;66;03m# If it's a file name just read it.\u001b[39;00m\n\u001b[1;32m    304\u001b[0m \u001b[38;5;28;01mif\u001b[39;00m \u001b[38;5;28misinstance\u001b[39m(mseed_object, \u001b[38;5;28mstr\u001b[39m):\n\u001b[1;32m    305\u001b[0m     \u001b[38;5;66;03m# Read to NumPy array which is used as a buffer.\u001b[39;00m\n\u001b[0;32m--> 306\u001b[0m     bfr_np \u001b[38;5;241m=\u001b[39m np\u001b[38;5;241m.\u001b[39mfromfile(mseed_object, dtype\u001b[38;5;241m=\u001b[39mnp\u001b[38;5;241m.\u001b[39mint8)\n\u001b[1;32m    307\u001b[0m \u001b[38;5;28;01melif\u001b[39;00m \u001b[38;5;28mhasattr\u001b[39m(mseed_object, \u001b[38;5;124m'\u001b[39m\u001b[38;5;124mread\u001b[39m\u001b[38;5;124m'\u001b[39m):\n\u001b[1;32m    308\u001b[0m     bfr_np \u001b[38;5;241m=\u001b[39m from_buffer(mseed_object\u001b[38;5;241m.\u001b[39mread(), dtype\u001b[38;5;241m=\u001b[39mnp\u001b[38;5;241m.\u001b[39mint8)\n",
      "\u001b[0;31mKeyboardInterrupt\u001b[0m: "
     ]
    }
   ],
   "source": [
    "# Training loop\n",
    "for epoch in range(num_epochs):\n",
    "    predictor.train()\n",
    "    for inputs, targets in train_loader:\n",
    "        if inputs is None:\n",
    "            continue\n",
    "        inputs = inputs.unsqueeze(1)  # Add channel dimension\n",
    "        outputs = predictor(inputs)\n",
    "        loss = criterion(outputs.squeeze(), targets)\n",
    "\n",
    "        optimizer.zero_grad()\n",
    "        loss.backward()\n",
    "        optimizer.step()\n",
    "\n",
    "    print(f'Epoch [{epoch+1}/{num_epochs}], Training Loss: {loss.item():.4f}')\n",
    "\n",
    "    # Evaluate on the test set\n",
    "    predictor.eval()\n",
    "    with torch.no_grad():\n",
    "        test_loss = 0.0\n",
    "        for inputs, targets in test_loader:\n",
    "            if inputs is None:\n",
    "                continue\n",
    "            inputs = inputs.unsqueeze(1)  # Add channel dimension\n",
    "            outputs = predictor(inputs)\n",
    "            loss = criterion(outputs.squeeze(), targets)\n",
    "            test_loss += loss.item()\n",
    "\n",
    "        test_loss /= len(test_loader)\n",
    "        print(f'Epoch [{epoch+1}/{num_epochs}], Test Loss: {test_loss:.4f}')\n",
    "    \n",
    "    # Save model checkpoint\n",
    "    checkpoint_path = f'./checkpoints/SeismicEventPredictor/model_epoch_{epoch+1}.pth'\n",
    "    torch.save(predictor.state_dict(), checkpoint_path)\n",
    "    print(f'Model saved to {checkpoint_path}')"
   ]
  }
 ],
 "metadata": {
  "kernelspec": {
   "display_name": "seismic-detection",
   "language": "python",
   "name": "python3"
  },
  "language_info": {
   "codemirror_mode": {
    "name": "ipython",
    "version": 3
   },
   "file_extension": ".py",
   "mimetype": "text/x-python",
   "name": "python",
   "nbconvert_exporter": "python",
   "pygments_lexer": "ipython3",
   "version": "3.11.10"
  }
 },
 "nbformat": 4,
 "nbformat_minor": 2
}
