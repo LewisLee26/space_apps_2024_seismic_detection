{
 "cells": [
  {
   "cell_type": "code",
   "execution_count": 19,
   "metadata": {},
   "outputs": [],
   "source": [
    "import torch\n",
    "import torch.nn as nn\n",
    "import torch.optim as optim\n",
    "from torch.utils.data import DataLoader\n",
    "from datasets import LunarSeismicDataset, collate_fn, train_test_split_dataset\n",
    "from models import SeismicEventPredictor, CNNAutoencoder"
   ]
  },
  {
   "cell_type": "code",
   "execution_count": 20,
   "metadata": {},
   "outputs": [],
   "source": [
    "# Define model and training hyperparameters\n",
    "num_epochs=50\n",
    "batch_size=4\n",
    "learning_rate=1e-3"
   ]
  },
  {
   "cell_type": "code",
   "execution_count": null,
   "metadata": {},
   "outputs": [],
   "source": [
    "# Load the prertained Autoencoder\n",
    "autoencoder = CNNAutoencoder()\n",
    "autoencoder.load_state_dict(torch.load('checkpoints/CNNAutoencoder/model_epoch_15.pth', weights_only=True))"
   ]
  },
  {
   "cell_type": "code",
   "execution_count": 22,
   "metadata": {},
   "outputs": [],
   "source": [
    "# Load the dataset\n",
    "supervised_dataset = LunarSeismicDataset(data_dir='data/lunar/training/data/S12_GradeA', catalog_file='data/lunar/training/catalogs/apollo12_catalog_GradeA_final.csv')\n",
    "train_dataset, test_dataset = train_test_split_dataset(supervised_dataset)\n",
    "\n",
    "train_loader = DataLoader(train_dataset, batch_size=batch_size, shuffle=True, collate_fn=collate_fn)\n",
    "test_loader = DataLoader(test_dataset, batch_size=batch_size, shuffle=False, collate_fn=collate_fn)"
   ]
  },
  {
   "cell_type": "code",
   "execution_count": 23,
   "metadata": {},
   "outputs": [],
   "source": [
    "# Init the model\n",
    "predictor = SeismicEventPredictor(autoencoder)\n",
    "\n",
    "# Training set up\n",
    "criterion = nn.MSELoss()\n",
    "optimizer = optim.Adam(predictor.parameters(), lr=learning_rate)"
   ]
  },
  {
   "cell_type": "code",
   "execution_count": null,
   "metadata": {},
   "outputs": [],
   "source": [
    "# Training loop\n",
    "for epoch in range(num_epochs):\n",
    "    predictor.train()\n",
    "    for inputs, targets in train_loader:\n",
    "        if inputs is None:\n",
    "            continue\n",
    "        inputs = inputs.unsqueeze(1)  # Add channel dimension\n",
    "        outputs = predictor(inputs)\n",
    "        loss = criterion(outputs.squeeze(), targets)\n",
    "\n",
    "        optimizer.zero_grad()\n",
    "        loss.backward()\n",
    "        optimizer.step()\n",
    "\n",
    "    print(f'Epoch [{epoch+1}/{num_epochs}], Training Loss: {loss.item():.4f}')\n",
    "\n",
    "    # Evaluate on the test set\n",
    "    predictor.eval()\n",
    "    with torch.no_grad():\n",
    "        test_loss = 0.0\n",
    "        for inputs, targets in test_loader:\n",
    "            if inputs is None:\n",
    "                continue\n",
    "            inputs = inputs.unsqueeze(1)  # Add channel dimension\n",
    "            outputs = predictor(inputs)\n",
    "            loss = criterion(outputs.squeeze(), targets)\n",
    "            test_loss += loss.item()\n",
    "\n",
    "        test_loss /= len(test_loader)\n",
    "        print(f'Epoch [{epoch+1}/{num_epochs}], Test Loss: {test_loss:.4f}')\n",
    "    \n",
    "    # Save model checkpoint\n",
    "    checkpoint_path = f'./checkpoints/SeismicEventPredictor/model_epoch_{epoch+1}.pth'\n",
    "    torch.save(predictor.state_dict(), checkpoint_path)\n",
    "    print(f'Model saved to {checkpoint_path}')"
   ]
  }
 ],
 "metadata": {
  "kernelspec": {
   "display_name": "seismic-detection",
   "language": "python",
   "name": "python3"
  },
  "language_info": {
   "codemirror_mode": {
    "name": "ipython",
    "version": 3
   },
   "file_extension": ".py",
   "mimetype": "text/x-python",
   "name": "python",
   "nbconvert_exporter": "python",
   "pygments_lexer": "ipython3",
   "version": "3.11.10"
  }
 },
 "nbformat": 4,
 "nbformat_minor": 2
}
